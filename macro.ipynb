{
 "cells": [
  {
   "cell_type": "code",
   "execution_count": 1,
   "metadata": {
    "collapsed": true
   },
   "outputs": [],
   "source": [
    "%matplotlib inline\n",
    "import matplotlib.pyplot as plt\n",
    "import numpy as np\n",
    "import pandas as pd\n",
    "import seaborn as sns"
   ]
  },
  {
   "cell_type": "code",
   "execution_count": 2,
   "metadata": {
    "collapsed": true
   },
   "outputs": [],
   "source": [
    "fname_macro = \"data/macro.csv\"\n",
    "fname_train = \"data/train.csv\"\n",
    "fname_test = \"data/test.csv\""
   ]
  },
  {
   "cell_type": "code",
   "execution_count": 3,
   "metadata": {
    "collapsed": true
   },
   "outputs": [],
   "source": [
    "df_macro = pd.read_csv(fname_macro)\n",
    "df_train = pd.read_csv(fname_train)\n",
    "df_test = pd.read_csv(fname_test)"
   ]
  },
  {
   "cell_type": "code",
   "execution_count": 4,
   "metadata": {},
   "outputs": [
    {
     "data": {
      "text/html": [
       "<div>\n",
       "<style>\n",
       "    .dataframe thead tr:only-child th {\n",
       "        text-align: right;\n",
       "    }\n",
       "\n",
       "    .dataframe thead th {\n",
       "        text-align: left;\n",
       "    }\n",
       "\n",
       "    .dataframe tbody tr th {\n",
       "        vertical-align: top;\n",
       "    }\n",
       "</style>\n",
       "<table border=\"1\" class=\"dataframe\">\n",
       "  <thead>\n",
       "    <tr style=\"text-align: right;\">\n",
       "      <th></th>\n",
       "      <th>id</th>\n",
       "      <th>timestamp</th>\n",
       "      <th>full_sq</th>\n",
       "      <th>life_sq</th>\n",
       "      <th>floor</th>\n",
       "      <th>max_floor</th>\n",
       "      <th>material</th>\n",
       "      <th>build_year</th>\n",
       "      <th>num_room</th>\n",
       "      <th>kitch_sq</th>\n",
       "      <th>...</th>\n",
       "      <th>cafe_count_5000_price_2500</th>\n",
       "      <th>cafe_count_5000_price_4000</th>\n",
       "      <th>cafe_count_5000_price_high</th>\n",
       "      <th>big_church_count_5000</th>\n",
       "      <th>church_count_5000</th>\n",
       "      <th>mosque_count_5000</th>\n",
       "      <th>leisure_count_5000</th>\n",
       "      <th>sport_count_5000</th>\n",
       "      <th>market_count_5000</th>\n",
       "      <th>price_doc</th>\n",
       "    </tr>\n",
       "  </thead>\n",
       "  <tbody>\n",
       "    <tr>\n",
       "      <th>0</th>\n",
       "      <td>1</td>\n",
       "      <td>2011-08-20</td>\n",
       "      <td>43</td>\n",
       "      <td>27.0</td>\n",
       "      <td>4.0</td>\n",
       "      <td>NaN</td>\n",
       "      <td>NaN</td>\n",
       "      <td>NaN</td>\n",
       "      <td>NaN</td>\n",
       "      <td>NaN</td>\n",
       "      <td>...</td>\n",
       "      <td>9</td>\n",
       "      <td>4</td>\n",
       "      <td>0</td>\n",
       "      <td>13</td>\n",
       "      <td>22</td>\n",
       "      <td>1</td>\n",
       "      <td>0</td>\n",
       "      <td>52</td>\n",
       "      <td>4</td>\n",
       "      <td>5850000</td>\n",
       "    </tr>\n",
       "    <tr>\n",
       "      <th>1</th>\n",
       "      <td>2</td>\n",
       "      <td>2011-08-23</td>\n",
       "      <td>34</td>\n",
       "      <td>19.0</td>\n",
       "      <td>3.0</td>\n",
       "      <td>NaN</td>\n",
       "      <td>NaN</td>\n",
       "      <td>NaN</td>\n",
       "      <td>NaN</td>\n",
       "      <td>NaN</td>\n",
       "      <td>...</td>\n",
       "      <td>15</td>\n",
       "      <td>3</td>\n",
       "      <td>0</td>\n",
       "      <td>15</td>\n",
       "      <td>29</td>\n",
       "      <td>1</td>\n",
       "      <td>10</td>\n",
       "      <td>66</td>\n",
       "      <td>14</td>\n",
       "      <td>6000000</td>\n",
       "    </tr>\n",
       "    <tr>\n",
       "      <th>2</th>\n",
       "      <td>3</td>\n",
       "      <td>2011-08-27</td>\n",
       "      <td>43</td>\n",
       "      <td>29.0</td>\n",
       "      <td>2.0</td>\n",
       "      <td>NaN</td>\n",
       "      <td>NaN</td>\n",
       "      <td>NaN</td>\n",
       "      <td>NaN</td>\n",
       "      <td>NaN</td>\n",
       "      <td>...</td>\n",
       "      <td>10</td>\n",
       "      <td>3</td>\n",
       "      <td>0</td>\n",
       "      <td>11</td>\n",
       "      <td>27</td>\n",
       "      <td>0</td>\n",
       "      <td>4</td>\n",
       "      <td>67</td>\n",
       "      <td>10</td>\n",
       "      <td>5700000</td>\n",
       "    </tr>\n",
       "    <tr>\n",
       "      <th>3</th>\n",
       "      <td>4</td>\n",
       "      <td>2011-09-01</td>\n",
       "      <td>89</td>\n",
       "      <td>50.0</td>\n",
       "      <td>9.0</td>\n",
       "      <td>NaN</td>\n",
       "      <td>NaN</td>\n",
       "      <td>NaN</td>\n",
       "      <td>NaN</td>\n",
       "      <td>NaN</td>\n",
       "      <td>...</td>\n",
       "      <td>11</td>\n",
       "      <td>2</td>\n",
       "      <td>1</td>\n",
       "      <td>4</td>\n",
       "      <td>4</td>\n",
       "      <td>0</td>\n",
       "      <td>0</td>\n",
       "      <td>26</td>\n",
       "      <td>3</td>\n",
       "      <td>13100000</td>\n",
       "    </tr>\n",
       "    <tr>\n",
       "      <th>4</th>\n",
       "      <td>5</td>\n",
       "      <td>2011-09-05</td>\n",
       "      <td>77</td>\n",
       "      <td>77.0</td>\n",
       "      <td>4.0</td>\n",
       "      <td>NaN</td>\n",
       "      <td>NaN</td>\n",
       "      <td>NaN</td>\n",
       "      <td>NaN</td>\n",
       "      <td>NaN</td>\n",
       "      <td>...</td>\n",
       "      <td>319</td>\n",
       "      <td>108</td>\n",
       "      <td>17</td>\n",
       "      <td>135</td>\n",
       "      <td>236</td>\n",
       "      <td>2</td>\n",
       "      <td>91</td>\n",
       "      <td>195</td>\n",
       "      <td>14</td>\n",
       "      <td>16331452</td>\n",
       "    </tr>\n",
       "  </tbody>\n",
       "</table>\n",
       "<p>5 rows × 292 columns</p>\n",
       "</div>"
      ],
      "text/plain": [
       "   id   timestamp  full_sq  life_sq  floor  max_floor  material  build_year  \\\n",
       "0   1  2011-08-20       43     27.0    4.0        NaN       NaN         NaN   \n",
       "1   2  2011-08-23       34     19.0    3.0        NaN       NaN         NaN   \n",
       "2   3  2011-08-27       43     29.0    2.0        NaN       NaN         NaN   \n",
       "3   4  2011-09-01       89     50.0    9.0        NaN       NaN         NaN   \n",
       "4   5  2011-09-05       77     77.0    4.0        NaN       NaN         NaN   \n",
       "\n",
       "   num_room  kitch_sq    ...      cafe_count_5000_price_2500  \\\n",
       "0       NaN       NaN    ...                               9   \n",
       "1       NaN       NaN    ...                              15   \n",
       "2       NaN       NaN    ...                              10   \n",
       "3       NaN       NaN    ...                              11   \n",
       "4       NaN       NaN    ...                             319   \n",
       "\n",
       "  cafe_count_5000_price_4000 cafe_count_5000_price_high  \\\n",
       "0                          4                          0   \n",
       "1                          3                          0   \n",
       "2                          3                          0   \n",
       "3                          2                          1   \n",
       "4                        108                         17   \n",
       "\n",
       "   big_church_count_5000  church_count_5000  mosque_count_5000  \\\n",
       "0                     13                 22                  1   \n",
       "1                     15                 29                  1   \n",
       "2                     11                 27                  0   \n",
       "3                      4                  4                  0   \n",
       "4                    135                236                  2   \n",
       "\n",
       "   leisure_count_5000  sport_count_5000  market_count_5000  price_doc  \n",
       "0                   0                52                  4    5850000  \n",
       "1                  10                66                 14    6000000  \n",
       "2                   4                67                 10    5700000  \n",
       "3                   0                26                  3   13100000  \n",
       "4                  91               195                 14   16331452  \n",
       "\n",
       "[5 rows x 292 columns]"
      ]
     },
     "execution_count": 4,
     "metadata": {},
     "output_type": "execute_result"
    }
   ],
   "source": [
    "df_train.head()"
   ]
  },
  {
   "cell_type": "code",
   "execution_count": 5,
   "metadata": {},
   "outputs": [
    {
     "data": {
      "text/html": [
       "<div>\n",
       "<style>\n",
       "    .dataframe thead tr:only-child th {\n",
       "        text-align: right;\n",
       "    }\n",
       "\n",
       "    .dataframe thead th {\n",
       "        text-align: left;\n",
       "    }\n",
       "\n",
       "    .dataframe tbody tr th {\n",
       "        vertical-align: top;\n",
       "    }\n",
       "</style>\n",
       "<table border=\"1\" class=\"dataframe\">\n",
       "  <thead>\n",
       "    <tr style=\"text-align: right;\">\n",
       "      <th></th>\n",
       "      <th>id</th>\n",
       "      <th>timestamp</th>\n",
       "      <th>full_sq</th>\n",
       "      <th>life_sq</th>\n",
       "      <th>floor</th>\n",
       "      <th>max_floor</th>\n",
       "      <th>material</th>\n",
       "      <th>build_year</th>\n",
       "      <th>num_room</th>\n",
       "      <th>kitch_sq</th>\n",
       "      <th>...</th>\n",
       "      <th>cafe_count_5000_price_1500</th>\n",
       "      <th>cafe_count_5000_price_2500</th>\n",
       "      <th>cafe_count_5000_price_4000</th>\n",
       "      <th>cafe_count_5000_price_high</th>\n",
       "      <th>big_church_count_5000</th>\n",
       "      <th>church_count_5000</th>\n",
       "      <th>mosque_count_5000</th>\n",
       "      <th>leisure_count_5000</th>\n",
       "      <th>sport_count_5000</th>\n",
       "      <th>market_count_5000</th>\n",
       "    </tr>\n",
       "  </thead>\n",
       "  <tbody>\n",
       "    <tr>\n",
       "      <th>0</th>\n",
       "      <td>30474</td>\n",
       "      <td>2015-07-01</td>\n",
       "      <td>39.0</td>\n",
       "      <td>20.7</td>\n",
       "      <td>2</td>\n",
       "      <td>9</td>\n",
       "      <td>1</td>\n",
       "      <td>1998.0</td>\n",
       "      <td>1</td>\n",
       "      <td>8.9</td>\n",
       "      <td>...</td>\n",
       "      <td>8</td>\n",
       "      <td>0</td>\n",
       "      <td>0</td>\n",
       "      <td>0</td>\n",
       "      <td>1</td>\n",
       "      <td>10</td>\n",
       "      <td>1</td>\n",
       "      <td>0</td>\n",
       "      <td>14</td>\n",
       "      <td>1</td>\n",
       "    </tr>\n",
       "    <tr>\n",
       "      <th>1</th>\n",
       "      <td>30475</td>\n",
       "      <td>2015-07-01</td>\n",
       "      <td>79.2</td>\n",
       "      <td>NaN</td>\n",
       "      <td>8</td>\n",
       "      <td>17</td>\n",
       "      <td>1</td>\n",
       "      <td>0.0</td>\n",
       "      <td>3</td>\n",
       "      <td>1.0</td>\n",
       "      <td>...</td>\n",
       "      <td>4</td>\n",
       "      <td>1</td>\n",
       "      <td>1</td>\n",
       "      <td>0</td>\n",
       "      <td>2</td>\n",
       "      <td>11</td>\n",
       "      <td>0</td>\n",
       "      <td>1</td>\n",
       "      <td>12</td>\n",
       "      <td>1</td>\n",
       "    </tr>\n",
       "    <tr>\n",
       "      <th>2</th>\n",
       "      <td>30476</td>\n",
       "      <td>2015-07-01</td>\n",
       "      <td>40.5</td>\n",
       "      <td>25.1</td>\n",
       "      <td>3</td>\n",
       "      <td>5</td>\n",
       "      <td>2</td>\n",
       "      <td>1960.0</td>\n",
       "      <td>2</td>\n",
       "      <td>4.8</td>\n",
       "      <td>...</td>\n",
       "      <td>42</td>\n",
       "      <td>11</td>\n",
       "      <td>4</td>\n",
       "      <td>0</td>\n",
       "      <td>10</td>\n",
       "      <td>21</td>\n",
       "      <td>0</td>\n",
       "      <td>10</td>\n",
       "      <td>71</td>\n",
       "      <td>11</td>\n",
       "    </tr>\n",
       "    <tr>\n",
       "      <th>3</th>\n",
       "      <td>30477</td>\n",
       "      <td>2015-07-01</td>\n",
       "      <td>62.8</td>\n",
       "      <td>36.0</td>\n",
       "      <td>17</td>\n",
       "      <td>17</td>\n",
       "      <td>1</td>\n",
       "      <td>2016.0</td>\n",
       "      <td>2</td>\n",
       "      <td>62.8</td>\n",
       "      <td>...</td>\n",
       "      <td>1</td>\n",
       "      <td>1</td>\n",
       "      <td>2</td>\n",
       "      <td>0</td>\n",
       "      <td>0</td>\n",
       "      <td>10</td>\n",
       "      <td>0</td>\n",
       "      <td>0</td>\n",
       "      <td>2</td>\n",
       "      <td>0</td>\n",
       "    </tr>\n",
       "    <tr>\n",
       "      <th>4</th>\n",
       "      <td>30478</td>\n",
       "      <td>2015-07-01</td>\n",
       "      <td>40.0</td>\n",
       "      <td>40.0</td>\n",
       "      <td>17</td>\n",
       "      <td>17</td>\n",
       "      <td>1</td>\n",
       "      <td>0.0</td>\n",
       "      <td>1</td>\n",
       "      <td>1.0</td>\n",
       "      <td>...</td>\n",
       "      <td>5</td>\n",
       "      <td>1</td>\n",
       "      <td>1</td>\n",
       "      <td>0</td>\n",
       "      <td>2</td>\n",
       "      <td>12</td>\n",
       "      <td>0</td>\n",
       "      <td>1</td>\n",
       "      <td>11</td>\n",
       "      <td>1</td>\n",
       "    </tr>\n",
       "  </tbody>\n",
       "</table>\n",
       "<p>5 rows × 291 columns</p>\n",
       "</div>"
      ],
      "text/plain": [
       "      id   timestamp  full_sq  life_sq  floor  max_floor  material  \\\n",
       "0  30474  2015-07-01     39.0     20.7      2          9         1   \n",
       "1  30475  2015-07-01     79.2      NaN      8         17         1   \n",
       "2  30476  2015-07-01     40.5     25.1      3          5         2   \n",
       "3  30477  2015-07-01     62.8     36.0     17         17         1   \n",
       "4  30478  2015-07-01     40.0     40.0     17         17         1   \n",
       "\n",
       "   build_year  num_room  kitch_sq        ...          \\\n",
       "0      1998.0         1       8.9        ...           \n",
       "1         0.0         3       1.0        ...           \n",
       "2      1960.0         2       4.8        ...           \n",
       "3      2016.0         2      62.8        ...           \n",
       "4         0.0         1       1.0        ...           \n",
       "\n",
       "   cafe_count_5000_price_1500 cafe_count_5000_price_2500  \\\n",
       "0                           8                          0   \n",
       "1                           4                          1   \n",
       "2                          42                         11   \n",
       "3                           1                          1   \n",
       "4                           5                          1   \n",
       "\n",
       "  cafe_count_5000_price_4000  cafe_count_5000_price_high  \\\n",
       "0                          0                           0   \n",
       "1                          1                           0   \n",
       "2                          4                           0   \n",
       "3                          2                           0   \n",
       "4                          1                           0   \n",
       "\n",
       "   big_church_count_5000  church_count_5000  mosque_count_5000  \\\n",
       "0                      1                 10                  1   \n",
       "1                      2                 11                  0   \n",
       "2                     10                 21                  0   \n",
       "3                      0                 10                  0   \n",
       "4                      2                 12                  0   \n",
       "\n",
       "   leisure_count_5000  sport_count_5000  market_count_5000  \n",
       "0                   0                14                  1  \n",
       "1                   1                12                  1  \n",
       "2                  10                71                 11  \n",
       "3                   0                 2                  0  \n",
       "4                   1                11                  1  \n",
       "\n",
       "[5 rows x 291 columns]"
      ]
     },
     "execution_count": 5,
     "metadata": {},
     "output_type": "execute_result"
    }
   ],
   "source": [
    "df_test.head()"
   ]
  },
  {
   "cell_type": "code",
   "execution_count": 6,
   "metadata": {},
   "outputs": [
    {
     "data": {
      "text/html": [
       "<div>\n",
       "<style>\n",
       "    .dataframe thead tr:only-child th {\n",
       "        text-align: right;\n",
       "    }\n",
       "\n",
       "    .dataframe thead th {\n",
       "        text-align: left;\n",
       "    }\n",
       "\n",
       "    .dataframe tbody tr th {\n",
       "        vertical-align: top;\n",
       "    }\n",
       "</style>\n",
       "<table border=\"1\" class=\"dataframe\">\n",
       "  <thead>\n",
       "    <tr style=\"text-align: right;\">\n",
       "      <th></th>\n",
       "      <th>timestamp</th>\n",
       "      <th>oil_urals</th>\n",
       "      <th>gdp_quart</th>\n",
       "      <th>gdp_quart_growth</th>\n",
       "      <th>cpi</th>\n",
       "      <th>ppi</th>\n",
       "      <th>gdp_deflator</th>\n",
       "      <th>balance_trade</th>\n",
       "      <th>balance_trade_growth</th>\n",
       "      <th>usdrub</th>\n",
       "      <th>...</th>\n",
       "      <th>provision_retail_space_modern_sqm</th>\n",
       "      <th>turnover_catering_per_cap</th>\n",
       "      <th>theaters_viewers_per_1000_cap</th>\n",
       "      <th>seats_theather_rfmin_per_100000_cap</th>\n",
       "      <th>museum_visitis_per_100_cap</th>\n",
       "      <th>bandwidth_sports</th>\n",
       "      <th>population_reg_sports_share</th>\n",
       "      <th>students_reg_sports_share</th>\n",
       "      <th>apartment_build</th>\n",
       "      <th>apartment_fund_sqm</th>\n",
       "    </tr>\n",
       "  </thead>\n",
       "  <tbody>\n",
       "    <tr>\n",
       "      <th>0</th>\n",
       "      <td>2010-01-01</td>\n",
       "      <td>76.1</td>\n",
       "      <td>NaN</td>\n",
       "      <td>NaN</td>\n",
       "      <td>NaN</td>\n",
       "      <td>NaN</td>\n",
       "      <td>NaN</td>\n",
       "      <td>NaN</td>\n",
       "      <td>NaN</td>\n",
       "      <td>NaN</td>\n",
       "      <td>...</td>\n",
       "      <td>690.0</td>\n",
       "      <td>6221.0</td>\n",
       "      <td>527.0</td>\n",
       "      <td>0.41</td>\n",
       "      <td>993.0</td>\n",
       "      <td>NaN</td>\n",
       "      <td>NaN</td>\n",
       "      <td>63.03</td>\n",
       "      <td>22825.0</td>\n",
       "      <td>NaN</td>\n",
       "    </tr>\n",
       "    <tr>\n",
       "      <th>1</th>\n",
       "      <td>2010-01-02</td>\n",
       "      <td>76.1</td>\n",
       "      <td>NaN</td>\n",
       "      <td>NaN</td>\n",
       "      <td>NaN</td>\n",
       "      <td>NaN</td>\n",
       "      <td>NaN</td>\n",
       "      <td>NaN</td>\n",
       "      <td>NaN</td>\n",
       "      <td>NaN</td>\n",
       "      <td>...</td>\n",
       "      <td>690.0</td>\n",
       "      <td>6221.0</td>\n",
       "      <td>527.0</td>\n",
       "      <td>0.41</td>\n",
       "      <td>993.0</td>\n",
       "      <td>NaN</td>\n",
       "      <td>NaN</td>\n",
       "      <td>63.03</td>\n",
       "      <td>22825.0</td>\n",
       "      <td>NaN</td>\n",
       "    </tr>\n",
       "    <tr>\n",
       "      <th>2</th>\n",
       "      <td>2010-01-03</td>\n",
       "      <td>76.1</td>\n",
       "      <td>NaN</td>\n",
       "      <td>NaN</td>\n",
       "      <td>NaN</td>\n",
       "      <td>NaN</td>\n",
       "      <td>NaN</td>\n",
       "      <td>NaN</td>\n",
       "      <td>NaN</td>\n",
       "      <td>NaN</td>\n",
       "      <td>...</td>\n",
       "      <td>690.0</td>\n",
       "      <td>6221.0</td>\n",
       "      <td>527.0</td>\n",
       "      <td>0.41</td>\n",
       "      <td>993.0</td>\n",
       "      <td>NaN</td>\n",
       "      <td>NaN</td>\n",
       "      <td>63.03</td>\n",
       "      <td>22825.0</td>\n",
       "      <td>NaN</td>\n",
       "    </tr>\n",
       "    <tr>\n",
       "      <th>3</th>\n",
       "      <td>2010-01-04</td>\n",
       "      <td>76.1</td>\n",
       "      <td>NaN</td>\n",
       "      <td>NaN</td>\n",
       "      <td>NaN</td>\n",
       "      <td>NaN</td>\n",
       "      <td>NaN</td>\n",
       "      <td>NaN</td>\n",
       "      <td>NaN</td>\n",
       "      <td>29.905</td>\n",
       "      <td>...</td>\n",
       "      <td>690.0</td>\n",
       "      <td>6221.0</td>\n",
       "      <td>527.0</td>\n",
       "      <td>0.41</td>\n",
       "      <td>993.0</td>\n",
       "      <td>NaN</td>\n",
       "      <td>NaN</td>\n",
       "      <td>63.03</td>\n",
       "      <td>22825.0</td>\n",
       "      <td>NaN</td>\n",
       "    </tr>\n",
       "    <tr>\n",
       "      <th>4</th>\n",
       "      <td>2010-01-05</td>\n",
       "      <td>76.1</td>\n",
       "      <td>NaN</td>\n",
       "      <td>NaN</td>\n",
       "      <td>NaN</td>\n",
       "      <td>NaN</td>\n",
       "      <td>NaN</td>\n",
       "      <td>NaN</td>\n",
       "      <td>NaN</td>\n",
       "      <td>29.836</td>\n",
       "      <td>...</td>\n",
       "      <td>690.0</td>\n",
       "      <td>6221.0</td>\n",
       "      <td>527.0</td>\n",
       "      <td>0.41</td>\n",
       "      <td>993.0</td>\n",
       "      <td>NaN</td>\n",
       "      <td>NaN</td>\n",
       "      <td>63.03</td>\n",
       "      <td>22825.0</td>\n",
       "      <td>NaN</td>\n",
       "    </tr>\n",
       "  </tbody>\n",
       "</table>\n",
       "<p>5 rows × 100 columns</p>\n",
       "</div>"
      ],
      "text/plain": [
       "    timestamp  oil_urals  gdp_quart  gdp_quart_growth  cpi  ppi  gdp_deflator  \\\n",
       "0  2010-01-01       76.1        NaN               NaN  NaN  NaN           NaN   \n",
       "1  2010-01-02       76.1        NaN               NaN  NaN  NaN           NaN   \n",
       "2  2010-01-03       76.1        NaN               NaN  NaN  NaN           NaN   \n",
       "3  2010-01-04       76.1        NaN               NaN  NaN  NaN           NaN   \n",
       "4  2010-01-05       76.1        NaN               NaN  NaN  NaN           NaN   \n",
       "\n",
       "   balance_trade  balance_trade_growth  usdrub         ...          \\\n",
       "0            NaN                   NaN     NaN         ...           \n",
       "1            NaN                   NaN     NaN         ...           \n",
       "2            NaN                   NaN     NaN         ...           \n",
       "3            NaN                   NaN  29.905         ...           \n",
       "4            NaN                   NaN  29.836         ...           \n",
       "\n",
       "   provision_retail_space_modern_sqm  turnover_catering_per_cap  \\\n",
       "0                              690.0                     6221.0   \n",
       "1                              690.0                     6221.0   \n",
       "2                              690.0                     6221.0   \n",
       "3                              690.0                     6221.0   \n",
       "4                              690.0                     6221.0   \n",
       "\n",
       "   theaters_viewers_per_1000_cap  seats_theather_rfmin_per_100000_cap  \\\n",
       "0                          527.0                                 0.41   \n",
       "1                          527.0                                 0.41   \n",
       "2                          527.0                                 0.41   \n",
       "3                          527.0                                 0.41   \n",
       "4                          527.0                                 0.41   \n",
       "\n",
       "   museum_visitis_per_100_cap  bandwidth_sports  population_reg_sports_share  \\\n",
       "0                       993.0               NaN                          NaN   \n",
       "1                       993.0               NaN                          NaN   \n",
       "2                       993.0               NaN                          NaN   \n",
       "3                       993.0               NaN                          NaN   \n",
       "4                       993.0               NaN                          NaN   \n",
       "\n",
       "   students_reg_sports_share  apartment_build  apartment_fund_sqm  \n",
       "0                      63.03          22825.0                 NaN  \n",
       "1                      63.03          22825.0                 NaN  \n",
       "2                      63.03          22825.0                 NaN  \n",
       "3                      63.03          22825.0                 NaN  \n",
       "4                      63.03          22825.0                 NaN  \n",
       "\n",
       "[5 rows x 100 columns]"
      ]
     },
     "execution_count": 6,
     "metadata": {},
     "output_type": "execute_result"
    }
   ],
   "source": [
    "df_macro.head()"
   ]
  },
  {
   "cell_type": "code",
   "execution_count": 7,
   "metadata": {},
   "outputs": [],
   "source": [
    "# Converting timestamps to datetime format\n",
    "df_macro['timestamp'] = pd.to_datetime(df_macro['timestamp'], format=\"%Y-%m-%d\")\n",
    "df_train['timestamp'] = pd.to_datetime(df_train['timestamp'], format=\"%Y-%m-%d\")\n",
    "df_test['timestamp'] = pd.to_datetime(df_test['timestamp'], format=\"%Y-%m-%d\")"
   ]
  },
  {
   "cell_type": "markdown",
   "metadata": {},
   "source": [
    "First - some macro variables are just going to be plain useless. Let's figure out what we have."
   ]
  },
  {
   "cell_type": "code",
   "execution_count": 8,
   "metadata": {},
   "outputs": [
    {
     "data": {
      "text/plain": [
       "Index(['timestamp', 'oil_urals', 'gdp_quart', 'gdp_quart_growth', 'cpi', 'ppi',\n",
       "       'gdp_deflator', 'balance_trade', 'balance_trade_growth', 'usdrub',\n",
       "       'eurrub', 'brent', 'net_capital_export', 'gdp_annual',\n",
       "       'gdp_annual_growth', 'average_provision_of_build_contract',\n",
       "       'average_provision_of_build_contract_moscow', 'rts', 'micex',\n",
       "       'micex_rgbi_tr', 'micex_cbi_tr', 'deposits_value', 'deposits_growth',\n",
       "       'deposits_rate', 'mortgage_value', 'mortgage_growth', 'mortgage_rate',\n",
       "       'grp', 'grp_growth', 'income_per_cap',\n",
       "       'real_dispos_income_per_cap_growth', 'salary', 'salary_growth',\n",
       "       'fixed_basket', 'retail_trade_turnover',\n",
       "       'retail_trade_turnover_per_cap', 'retail_trade_turnover_growth',\n",
       "       'labor_force', 'unemployment', 'employment',\n",
       "       'invest_fixed_capital_per_cap', 'invest_fixed_assets',\n",
       "       'profitable_enterpr_share', 'unprofitable_enterpr_share',\n",
       "       'share_own_revenues', 'overdue_wages_per_cap', 'fin_res_per_cap',\n",
       "       'marriages_per_1000_cap', 'divorce_rate', 'construction_value',\n",
       "       'invest_fixed_assets_phys', 'pop_natural_increase', 'pop_migration',\n",
       "       'pop_total_inc', 'childbirth', 'mortality', 'housing_fund_sqm',\n",
       "       'lodging_sqm_per_cap', 'water_pipes_share', 'baths_share',\n",
       "       'sewerage_share', 'gas_share', 'hot_water_share',\n",
       "       'electric_stove_share', 'heating_share', 'old_house_share',\n",
       "       'average_life_exp', 'infant_mortarity_per_1000_cap',\n",
       "       'perinatal_mort_per_1000_cap', 'incidence_population',\n",
       "       'rent_price_4+room_bus', 'rent_price_3room_bus', 'rent_price_2room_bus',\n",
       "       'rent_price_1room_bus', 'rent_price_3room_eco', 'rent_price_2room_eco',\n",
       "       'rent_price_1room_eco', 'load_of_teachers_preschool_per_teacher',\n",
       "       'child_on_acc_pre_school', 'load_of_teachers_school_per_teacher',\n",
       "       'students_state_oneshift', 'modern_education_share',\n",
       "       'old_education_build_share', 'provision_doctors', 'provision_nurse',\n",
       "       'load_on_doctors', 'power_clinics', 'hospital_beds_available_per_cap',\n",
       "       'hospital_bed_occupancy_per_year', 'provision_retail_space_sqm',\n",
       "       'provision_retail_space_modern_sqm', 'turnover_catering_per_cap',\n",
       "       'theaters_viewers_per_1000_cap', 'seats_theather_rfmin_per_100000_cap',\n",
       "       'museum_visitis_per_100_cap', 'bandwidth_sports',\n",
       "       'population_reg_sports_share', 'students_reg_sports_share',\n",
       "       'apartment_build', 'apartment_fund_sqm'],\n",
       "      dtype='object')"
      ]
     },
     "execution_count": 8,
     "metadata": {},
     "output_type": "execute_result"
    }
   ],
   "source": [
    "df_macro.columns"
   ]
  },
  {
   "cell_type": "markdown",
   "metadata": {},
   "source": [
    "### Removed Variables from Common Sense Inspection\n",
    "'ppi', 'gdp_deflator', 'balance_trade', 'balance_trade_growth', \n",
    "'net_capital_export', 'average_provision_of_build_contract',\n",
    "       'average_provision_of_build_contract_moscow',\n",
    "       'retail_trade_turnover',\n",
    "       'retail_trade_turnover_per_cap', 'retail_trade_turnover_growth',\n",
    "'invest_fixed_capital_per_cap', 'invest_fixed_assets',\n",
    "       'profitable_enterpr_share', 'unprofitable_enterpr_share',\n",
    "       'share_own_revenues', 'overdue_wages_per_cap', 'fin_res_per_cap',\n",
    "       'marriages_per_1000_cap', 'divorce_rate', 'construction_value',\n",
    "       'invest_fixed_assets_phys', 'pop_natural_increase', 'pop_migration',\n",
    "       'pop_total_inc', 'childbirth', 'mortality',\n",
    "'housing_fund_sqm',\n",
    "       'lodging_sqm_per_cap', 'water_pipes_share', 'baths_share',\n",
    "       'sewerage_share', 'gas_share', 'hot_water_share',\n",
    "       'electric_stove_share', 'heating_share', 'old_house_share',\n",
    "       'average_life_exp', 'infant_mortarity_per_1000_cap',\n",
    "       'perinatal_mort_per_1000_cap', 'incidence_population',\n",
    " 'load_of_teachers_preschool_per_teacher',\n",
    "       'child_on_acc_pre_school', 'load_of_teachers_school_per_teacher',\n",
    "       'students_state_oneshift', 'modern_education_share',\n",
    "       'old_education_build_share', 'provision_doctors', 'provision_nurse',\n",
    "       'load_on_doctors', 'power_clinics', 'hospital_beds_available_per_cap',\n",
    "       'hospital_bed_occupancy_per_year', 'provision_retail_space_sqm',\n",
    "       'provision_retail_space_modern_sqm', 'turnover_catering_per_cap',\n",
    "       'theaters_viewers_per_1000_cap', 'seats_theather_rfmin_per_100000_cap',\n",
    "       'museum_visitis_per_100_cap', 'bandwidth_sports',\n",
    "       'population_reg_sports_share', 'students_reg_sports_share',\n",
    "'apartment_build', 'apartment_fund_sqm'"
   ]
  },
  {
   "cell_type": "code",
   "execution_count": 9,
   "metadata": {
    "collapsed": true
   },
   "outputs": [],
   "source": [
    "df_macro = df_macro[['timestamp', 'oil_urals', 'gdp_quart', 'gdp_quart_growth', 'cpi', 'usdrub', 'eurrub', 'brent', \n",
    "       'gdp_annual', 'gdp_annual_growth', 'rts', 'micex', 'micex_rgbi_tr', 'micex_cbi_tr', 'deposits_value', 'deposits_growth',\n",
    "       'deposits_rate', 'mortgage_value', 'mortgage_growth', 'mortgage_rate', 'grp', 'grp_growth', 'income_per_cap',\n",
    "       'real_dispos_income_per_cap_growth', 'salary', 'salary_growth', 'fixed_basket', 'labor_force', 'unemployment', \n",
    "       'employment', 'rent_price_4+room_bus', 'rent_price_3room_bus', 'rent_price_2room_bus', 'rent_price_1room_bus', \n",
    "       'rent_price_3room_eco', 'rent_price_2room_eco', 'rent_price_1room_eco']]"
   ]
  },
  {
   "cell_type": "markdown",
   "metadata": {},
   "source": [
    "Finding the date range of the training and testing data sets"
   ]
  },
  {
   "cell_type": "code",
   "execution_count": 10,
   "metadata": {},
   "outputs": [
    {
     "data": {
      "text/plain": [
       "(Timestamp('2011-08-20 00:00:00'),\n",
       " Timestamp('2015-06-30 00:00:00'),\n",
       " Timestamp('2015-07-01 00:00:00'),\n",
       " Timestamp('2016-05-30 00:00:00'))"
      ]
     },
     "execution_count": 10,
     "metadata": {},
     "output_type": "execute_result"
    }
   ],
   "source": [
    "df_train.timestamp.min(), df_train.timestamp.max(), df_test.timestamp.min(), df_test.timestamp.max()"
   ]
  },
  {
   "cell_type": "markdown",
   "metadata": {},
   "source": [
    "Further filtering the macro dataset for those dates that a year before the first training timestamp to the last test timestamp. Reasoning being - we don't need anything past the last sale. Any kind of user-created macro variables would be at longest a year-over-year change, so we only need data a year before the first sale."
   ]
  },
  {
   "cell_type": "code",
   "execution_count": 11,
   "metadata": {},
   "outputs": [],
   "source": [
    "df_macro = df_macro[(df_macro.timestamp >= pd.Timestamp(\"2010-08-20 00:00:00\")) & \n",
    "                    (df_macro.timestamp <= pd.Timestamp(\"2016-05-30 00:00:00\"))]"
   ]
  },
  {
   "cell_type": "code",
   "execution_count": 12,
   "metadata": {},
   "outputs": [
    {
     "data": {
      "text/plain": [
       "2111"
      ]
     },
     "execution_count": 12,
     "metadata": {},
     "output_type": "execute_result"
    }
   ],
   "source": [
    "# How many rows do we have left\n",
    "len(df_macro)"
   ]
  },
  {
   "cell_type": "markdown",
   "metadata": {},
   "source": [
    "Let's see how many missing values we have now. I don't want to impute macro data, so first I want to remove columns that have a large number of missing values."
   ]
  },
  {
   "cell_type": "code",
   "execution_count": 13,
   "metadata": {},
   "outputs": [
    {
     "data": {
      "text/plain": [
       "timestamp                              0\n",
       "oil_urals                              0\n",
       "gdp_quart                              0\n",
       "gdp_quart_growth                       0\n",
       "cpi                                    0\n",
       "usdrub                                 0\n",
       "eurrub                                 0\n",
       "brent                                  0\n",
       "gdp_annual                             0\n",
       "gdp_annual_growth                      0\n",
       "rts                                    0\n",
       "micex                                  0\n",
       "micex_rgbi_tr                          0\n",
       "micex_cbi_tr                           0\n",
       "deposits_value                         0\n",
       "deposits_growth                        0\n",
       "deposits_rate                        134\n",
       "mortgage_value                         0\n",
       "mortgage_growth                      134\n",
       "mortgage_rate                          0\n",
       "grp                                  516\n",
       "grp_growth                           650\n",
       "income_per_cap                       151\n",
       "real_dispos_income_per_cap_growth    516\n",
       "salary                               151\n",
       "salary_growth                        285\n",
       "fixed_basket                           0\n",
       "labor_force                          151\n",
       "unemployment                         151\n",
       "employment                           151\n",
       "rent_price_4+room_bus                 42\n",
       "rent_price_3room_bus                  42\n",
       "rent_price_2room_bus                  42\n",
       "rent_price_1room_bus                  42\n",
       "rent_price_3room_eco                  42\n",
       "rent_price_2room_eco                  42\n",
       "rent_price_1room_eco                  42\n",
       "dtype: int64"
      ]
     },
     "execution_count": 13,
     "metadata": {},
     "output_type": "execute_result"
    }
   ],
   "source": [
    "df_macro.isnull().sum()"
   ]
  },
  {
   "cell_type": "markdown",
   "metadata": {},
   "source": [
    "Easy wins - taking out grp, grp_growth, and real_dispos_income_per_cap_growth - missing values for over 25% of the data"
   ]
  },
  {
   "cell_type": "code",
   "execution_count": 14,
   "metadata": {},
   "outputs": [
    {
     "data": {
      "text/plain": [
       "timestamp                  0\n",
       "oil_urals                  0\n",
       "gdp_quart                  0\n",
       "gdp_quart_growth           0\n",
       "cpi                        0\n",
       "usdrub                     0\n",
       "eurrub                     0\n",
       "brent                      0\n",
       "gdp_annual                 0\n",
       "gdp_annual_growth          0\n",
       "rts                        0\n",
       "micex                      0\n",
       "micex_rgbi_tr              0\n",
       "micex_cbi_tr               0\n",
       "deposits_value             0\n",
       "deposits_growth            0\n",
       "deposits_rate            134\n",
       "mortgage_value             0\n",
       "mortgage_growth          134\n",
       "mortgage_rate              0\n",
       "income_per_cap           151\n",
       "salary                   151\n",
       "salary_growth            285\n",
       "fixed_basket               0\n",
       "labor_force              151\n",
       "unemployment             151\n",
       "employment               151\n",
       "rent_price_4+room_bus     42\n",
       "rent_price_3room_bus      42\n",
       "rent_price_2room_bus      42\n",
       "rent_price_1room_bus      42\n",
       "rent_price_3room_eco      42\n",
       "rent_price_2room_eco      42\n",
       "rent_price_1room_eco      42\n",
       "dtype: int64"
      ]
     },
     "execution_count": 14,
     "metadata": {},
     "output_type": "execute_result"
    }
   ],
   "source": [
    "df_macro = df_macro[['timestamp', 'oil_urals', 'gdp_quart', 'gdp_quart_growth', 'cpi', 'usdrub', 'eurrub', 'brent', \n",
    "       'gdp_annual', 'gdp_annual_growth', 'rts', 'micex', 'micex_rgbi_tr', 'micex_cbi_tr', 'deposits_value', 'deposits_growth',\n",
    "       'deposits_rate', 'mortgage_value', 'mortgage_growth', 'mortgage_rate', 'income_per_cap', 'salary', 'salary_growth', \n",
    "       'fixed_basket', 'labor_force', 'unemployment', 'employment', 'rent_price_4+room_bus', 'rent_price_3room_bus', \n",
    "       'rent_price_2room_bus', 'rent_price_1room_bus', 'rent_price_3room_eco', 'rent_price_2room_eco', 'rent_price_1room_eco']]\n",
    "df_macro.isnull().sum()"
   ]
  },
  {
   "cell_type": "markdown",
   "metadata": {},
   "source": [
    "Looks like the rent prices are missing values systemically - let's see what dates we're missing."
   ]
  },
  {
   "cell_type": "code",
   "execution_count": 15,
   "metadata": {},
   "outputs": [
    {
     "data": {
      "text/plain": [
       "231   2010-08-20\n",
       "232   2010-08-21\n",
       "233   2010-08-22\n",
       "234   2010-08-23\n",
       "235   2010-08-24\n",
       "236   2010-08-25\n",
       "237   2010-08-26\n",
       "238   2010-08-27\n",
       "239   2010-08-28\n",
       "240   2010-08-29\n",
       "241   2010-08-30\n",
       "242   2010-08-31\n",
       "243   2010-09-01\n",
       "244   2010-09-02\n",
       "245   2010-09-03\n",
       "246   2010-09-04\n",
       "247   2010-09-05\n",
       "248   2010-09-06\n",
       "249   2010-09-07\n",
       "250   2010-09-08\n",
       "251   2010-09-09\n",
       "252   2010-09-10\n",
       "253   2010-09-11\n",
       "254   2010-09-12\n",
       "255   2010-09-13\n",
       "256   2010-09-14\n",
       "257   2010-09-15\n",
       "258   2010-09-16\n",
       "259   2010-09-17\n",
       "260   2010-09-18\n",
       "261   2010-09-19\n",
       "262   2010-09-20\n",
       "263   2010-09-21\n",
       "264   2010-09-22\n",
       "265   2010-09-23\n",
       "266   2010-09-24\n",
       "267   2010-09-25\n",
       "268   2010-09-26\n",
       "269   2010-09-27\n",
       "270   2010-09-28\n",
       "271   2010-09-29\n",
       "272   2010-09-30\n",
       "Name: timestamp, dtype: datetime64[ns]"
      ]
     },
     "execution_count": 15,
     "metadata": {},
     "output_type": "execute_result"
    }
   ],
   "source": [
    "df_macro.timestamp[df_macro.rent_price_1room_bus.isnull()]"
   ]
  },
  {
   "cell_type": "markdown",
   "metadata": {},
   "source": [
    "August/September of 2010 are missing. It wouldn't be unreasonable to backfill the price on 10-01-2010 to fill in these missing values - rent prices shouldn't be expected to change that greatly in two months.\n",
    "\n",
    "What are the differences between each rent price category?"
   ]
  },
  {
   "cell_type": "code",
   "execution_count": 16,
   "metadata": {},
   "outputs": [
    {
     "data": {
      "text/html": [
       "<div>\n",
       "<style>\n",
       "    .dataframe thead tr:only-child th {\n",
       "        text-align: right;\n",
       "    }\n",
       "\n",
       "    .dataframe thead th {\n",
       "        text-align: left;\n",
       "    }\n",
       "\n",
       "    .dataframe tbody tr th {\n",
       "        vertical-align: top;\n",
       "    }\n",
       "</style>\n",
       "<table border=\"1\" class=\"dataframe\">\n",
       "  <thead>\n",
       "    <tr style=\"text-align: right;\">\n",
       "      <th></th>\n",
       "      <th>rent_price_4+room_bus</th>\n",
       "      <th>rent_price_3room_bus</th>\n",
       "      <th>rent_price_2room_bus</th>\n",
       "      <th>rent_price_1room_bus</th>\n",
       "      <th>rent_price_3room_eco</th>\n",
       "      <th>rent_price_2room_eco</th>\n",
       "      <th>rent_price_1room_eco</th>\n",
       "    </tr>\n",
       "    <tr>\n",
       "      <th>timestamp</th>\n",
       "      <th></th>\n",
       "      <th></th>\n",
       "      <th></th>\n",
       "      <th></th>\n",
       "      <th></th>\n",
       "      <th></th>\n",
       "      <th></th>\n",
       "    </tr>\n",
       "  </thead>\n",
       "  <tbody>\n",
       "    <tr>\n",
       "      <th>2010</th>\n",
       "      <td>167.165109</td>\n",
       "      <td>80.124457</td>\n",
       "      <td>59.590217</td>\n",
       "      <td>45.328587</td>\n",
       "      <td>40.098804</td>\n",
       "      <td>34.371087</td>\n",
       "      <td>28.350978</td>\n",
       "    </tr>\n",
       "    <tr>\n",
       "      <th>2011</th>\n",
       "      <td>155.211315</td>\n",
       "      <td>84.616630</td>\n",
       "      <td>61.720438</td>\n",
       "      <td>47.412767</td>\n",
       "      <td>43.971068</td>\n",
       "      <td>36.364795</td>\n",
       "      <td>29.190247</td>\n",
       "    </tr>\n",
       "    <tr>\n",
       "      <th>2012</th>\n",
       "      <td>150.137814</td>\n",
       "      <td>89.522158</td>\n",
       "      <td>67.467732</td>\n",
       "      <td>52.258115</td>\n",
       "      <td>46.174454</td>\n",
       "      <td>39.444153</td>\n",
       "      <td>31.742732</td>\n",
       "    </tr>\n",
       "    <tr>\n",
       "      <th>2013</th>\n",
       "      <td>150.116740</td>\n",
       "      <td>88.825479</td>\n",
       "      <td>70.946904</td>\n",
       "      <td>53.941945</td>\n",
       "      <td>47.758603</td>\n",
       "      <td>38.382164</td>\n",
       "      <td>30.700466</td>\n",
       "    </tr>\n",
       "    <tr>\n",
       "      <th>2014</th>\n",
       "      <td>173.302822</td>\n",
       "      <td>102.771041</td>\n",
       "      <td>80.741096</td>\n",
       "      <td>61.652466</td>\n",
       "      <td>50.454247</td>\n",
       "      <td>42.212356</td>\n",
       "      <td>33.862521</td>\n",
       "    </tr>\n",
       "    <tr>\n",
       "      <th>2015</th>\n",
       "      <td>189.917479</td>\n",
       "      <td>111.129753</td>\n",
       "      <td>80.733151</td>\n",
       "      <td>52.080247</td>\n",
       "      <td>50.303726</td>\n",
       "      <td>40.048822</td>\n",
       "      <td>31.331425</td>\n",
       "    </tr>\n",
       "    <tr>\n",
       "      <th>2016</th>\n",
       "      <td>181.609470</td>\n",
       "      <td>103.131788</td>\n",
       "      <td>75.424636</td>\n",
       "      <td>51.442119</td>\n",
       "      <td>47.627682</td>\n",
       "      <td>37.744636</td>\n",
       "      <td>29.472715</td>\n",
       "    </tr>\n",
       "  </tbody>\n",
       "</table>\n",
       "</div>"
      ],
      "text/plain": [
       "           rent_price_4+room_bus  rent_price_3room_bus  rent_price_2room_bus  \\\n",
       "timestamp                                                                      \n",
       "2010                  167.165109             80.124457             59.590217   \n",
       "2011                  155.211315             84.616630             61.720438   \n",
       "2012                  150.137814             89.522158             67.467732   \n",
       "2013                  150.116740             88.825479             70.946904   \n",
       "2014                  173.302822            102.771041             80.741096   \n",
       "2015                  189.917479            111.129753             80.733151   \n",
       "2016                  181.609470            103.131788             75.424636   \n",
       "\n",
       "           rent_price_1room_bus  rent_price_3room_eco  rent_price_2room_eco  \\\n",
       "timestamp                                                                     \n",
       "2010                  45.328587             40.098804             34.371087   \n",
       "2011                  47.412767             43.971068             36.364795   \n",
       "2012                  52.258115             46.174454             39.444153   \n",
       "2013                  53.941945             47.758603             38.382164   \n",
       "2014                  61.652466             50.454247             42.212356   \n",
       "2015                  52.080247             50.303726             40.048822   \n",
       "2016                  51.442119             47.627682             37.744636   \n",
       "\n",
       "           rent_price_1room_eco  \n",
       "timestamp                        \n",
       "2010                  28.350978  \n",
       "2011                  29.190247  \n",
       "2012                  31.742732  \n",
       "2013                  30.700466  \n",
       "2014                  33.862521  \n",
       "2015                  31.331425  \n",
       "2016                  29.472715  "
      ]
     },
     "execution_count": 16,
     "metadata": {},
     "output_type": "execute_result"
    }
   ],
   "source": [
    "df_macro[['timestamp', 'rent_price_4+room_bus', 'rent_price_3room_bus', 'rent_price_2room_bus', 'rent_price_1room_bus', \n",
    "          'rent_price_3room_eco', 'rent_price_2room_eco', 'rent_price_1room_eco']].groupby(by=df_macro.timestamp.dt.year).agg(np.mean)"
   ]
  },
  {
   "cell_type": "markdown",
   "metadata": {},
   "source": [
    "Looks like buisness class pricess are slightly more volatile that economy. Let's keep the 1 bedroom prices for each for now."
   ]
  },
  {
   "cell_type": "code",
   "execution_count": 17,
   "metadata": {},
   "outputs": [
    {
     "data": {
      "text/plain": [
       "timestamp                 0\n",
       "oil_urals                 0\n",
       "gdp_quart                 0\n",
       "gdp_quart_growth          0\n",
       "cpi                       0\n",
       "usdrub                    0\n",
       "eurrub                    0\n",
       "brent                     0\n",
       "gdp_annual                0\n",
       "gdp_annual_growth         0\n",
       "rts                       0\n",
       "micex                     0\n",
       "micex_rgbi_tr             0\n",
       "micex_cbi_tr              0\n",
       "deposits_value            0\n",
       "deposits_growth           0\n",
       "deposits_rate           134\n",
       "mortgage_value            0\n",
       "mortgage_growth         134\n",
       "mortgage_rate             0\n",
       "income_per_cap          151\n",
       "salary                  151\n",
       "salary_growth           285\n",
       "fixed_basket              0\n",
       "labor_force             151\n",
       "unemployment            151\n",
       "employment              151\n",
       "rent_price_1room_bus     42\n",
       "rent_price_1room_eco     42\n",
       "dtype: int64"
      ]
     },
     "execution_count": 17,
     "metadata": {},
     "output_type": "execute_result"
    }
   ],
   "source": [
    "df_macro = df_macro[['timestamp', 'oil_urals', 'gdp_quart', 'gdp_quart_growth', 'cpi', 'usdrub', 'eurrub', 'brent', \n",
    "       'gdp_annual', 'gdp_annual_growth', 'rts', 'micex', 'micex_rgbi_tr', 'micex_cbi_tr', 'deposits_value', 'deposits_growth',\n",
    "       'deposits_rate', 'mortgage_value', 'mortgage_growth', 'mortgage_rate', 'income_per_cap', 'salary', 'salary_growth', \n",
    "       'fixed_basket', 'labor_force', 'unemployment', 'employment', 'rent_price_1room_bus', 'rent_price_1room_eco']]\n",
    "df_macro.isnull().sum()"
   ]
  },
  {
   "cell_type": "markdown",
   "metadata": {},
   "source": [
    "I think we only need one variable for deposits/mortage. According to the data dictionary, mortgage_rate is an average mortgage rate, deposits growth is rate of growth on deposits. I want to keep these two variables - if people are saving more and mortages rates are lower, people may purchase more expensive houses and vice versa. These should be the most telling."
   ]
  },
  {
   "cell_type": "code",
   "execution_count": 18,
   "metadata": {},
   "outputs": [
    {
     "data": {
      "text/plain": [
       "timestamp                 0\n",
       "oil_urals                 0\n",
       "gdp_quart                 0\n",
       "gdp_quart_growth          0\n",
       "cpi                       0\n",
       "usdrub                    0\n",
       "eurrub                    0\n",
       "brent                     0\n",
       "gdp_annual                0\n",
       "gdp_annual_growth         0\n",
       "rts                       0\n",
       "micex                     0\n",
       "micex_rgbi_tr             0\n",
       "micex_cbi_tr              0\n",
       "deposits_growth           0\n",
       "mortgage_rate             0\n",
       "income_per_cap          151\n",
       "salary                  151\n",
       "salary_growth           285\n",
       "fixed_basket              0\n",
       "labor_force             151\n",
       "unemployment            151\n",
       "employment              151\n",
       "rent_price_1room_bus     42\n",
       "rent_price_1room_eco     42\n",
       "dtype: int64"
      ]
     },
     "execution_count": 18,
     "metadata": {},
     "output_type": "execute_result"
    }
   ],
   "source": [
    "df_macro = df_macro[['timestamp', 'oil_urals', 'gdp_quart', 'gdp_quart_growth', 'cpi', 'usdrub', 'eurrub', 'brent', \n",
    "       'gdp_annual', 'gdp_annual_growth', 'rts', 'micex', 'micex_rgbi_tr', 'micex_cbi_tr', 'deposits_growth',\n",
    "       'mortgage_rate', 'income_per_cap', 'salary', 'salary_growth', 'fixed_basket', 'labor_force', 'unemployment', \n",
    "       'employment', 'rent_price_1room_bus', 'rent_price_1room_eco']]\n",
    "df_macro.isnull().sum()"
   ]
  },
  {
   "cell_type": "markdown",
   "metadata": {},
   "source": [
    "Taking a look at the salary/income variables."
   ]
  },
  {
   "cell_type": "code",
   "execution_count": 19,
   "metadata": {},
   "outputs": [
    {
     "data": {
      "text/html": [
       "<div>\n",
       "<style>\n",
       "    .dataframe thead tr:only-child th {\n",
       "        text-align: right;\n",
       "    }\n",
       "\n",
       "    .dataframe thead th {\n",
       "        text-align: left;\n",
       "    }\n",
       "\n",
       "    .dataframe tbody tr th {\n",
       "        vertical-align: top;\n",
       "    }\n",
       "</style>\n",
       "<table border=\"1\" class=\"dataframe\">\n",
       "  <thead>\n",
       "    <tr style=\"text-align: right;\">\n",
       "      <th></th>\n",
       "      <th>income_per_cap</th>\n",
       "      <th>salary</th>\n",
       "      <th>salary_growth</th>\n",
       "    </tr>\n",
       "    <tr>\n",
       "      <th>timestamp</th>\n",
       "      <th></th>\n",
       "      <th></th>\n",
       "      <th></th>\n",
       "    </tr>\n",
       "  </thead>\n",
       "  <tbody>\n",
       "    <tr>\n",
       "      <th>2010</th>\n",
       "      <td>48679.591791</td>\n",
       "      <td>38410.5</td>\n",
       "      <td>NaN</td>\n",
       "    </tr>\n",
       "    <tr>\n",
       "      <th>2011</th>\n",
       "      <td>47118.762192</td>\n",
       "      <td>44898.7</td>\n",
       "      <td>0.168917</td>\n",
       "    </tr>\n",
       "    <tr>\n",
       "      <th>2012</th>\n",
       "      <td>49218.445355</td>\n",
       "      <td>48830.4</td>\n",
       "      <td>0.087568</td>\n",
       "    </tr>\n",
       "    <tr>\n",
       "      <th>2013</th>\n",
       "      <td>55196.900000</td>\n",
       "      <td>55485.2</td>\n",
       "      <td>0.136284</td>\n",
       "    </tr>\n",
       "    <tr>\n",
       "      <th>2014</th>\n",
       "      <td>54783.260274</td>\n",
       "      <td>61208.0</td>\n",
       "      <td>0.103141</td>\n",
       "    </tr>\n",
       "    <tr>\n",
       "      <th>2015</th>\n",
       "      <td>59910.101370</td>\n",
       "      <td>64310.0</td>\n",
       "      <td>0.050680</td>\n",
       "    </tr>\n",
       "    <tr>\n",
       "      <th>2016</th>\n",
       "      <td>NaN</td>\n",
       "      <td>NaN</td>\n",
       "      <td>NaN</td>\n",
       "    </tr>\n",
       "  </tbody>\n",
       "</table>\n",
       "</div>"
      ],
      "text/plain": [
       "           income_per_cap   salary  salary_growth\n",
       "timestamp                                        \n",
       "2010         48679.591791  38410.5            NaN\n",
       "2011         47118.762192  44898.7       0.168917\n",
       "2012         49218.445355  48830.4       0.087568\n",
       "2013         55196.900000  55485.2       0.136284\n",
       "2014         54783.260274  61208.0       0.103141\n",
       "2015         59910.101370  64310.0       0.050680\n",
       "2016                  NaN      NaN            NaN"
      ]
     },
     "execution_count": 19,
     "metadata": {},
     "output_type": "execute_result"
    }
   ],
   "source": [
    "df_macro[['timestamp','income_per_cap','salary','salary_growth']].groupby(by=df_macro.timestamp.dt.year).agg(np.mean)"
   ]
  },
  {
   "cell_type": "markdown",
   "metadata": {},
   "source": [
    "Let's keep salary for the simple reason of if someone isn't working, they probably aren't buying a house - so per capita should be less useful."
   ]
  },
  {
   "cell_type": "code",
   "execution_count": 20,
   "metadata": {},
   "outputs": [
    {
     "data": {
      "text/plain": [
       "timestamp                 0\n",
       "oil_urals                 0\n",
       "gdp_quart                 0\n",
       "gdp_quart_growth          0\n",
       "cpi                       0\n",
       "usdrub                    0\n",
       "eurrub                    0\n",
       "brent                     0\n",
       "gdp_annual                0\n",
       "gdp_annual_growth         0\n",
       "rts                       0\n",
       "micex                     0\n",
       "micex_rgbi_tr             0\n",
       "micex_cbi_tr              0\n",
       "deposits_growth           0\n",
       "mortgage_rate             0\n",
       "salary                  151\n",
       "fixed_basket              0\n",
       "labor_force             151\n",
       "unemployment            151\n",
       "employment              151\n",
       "rent_price_1room_bus     42\n",
       "rent_price_1room_eco     42\n",
       "dtype: int64"
      ]
     },
     "execution_count": 20,
     "metadata": {},
     "output_type": "execute_result"
    }
   ],
   "source": [
    "df_macro = df_macro[['timestamp', 'oil_urals', 'gdp_quart', 'gdp_quart_growth', 'cpi', 'usdrub', 'eurrub', 'brent', \n",
    "       'gdp_annual', 'gdp_annual_growth', 'rts', 'micex', 'micex_rgbi_tr', 'micex_cbi_tr', 'deposits_growth',\n",
    "       'mortgage_rate', 'salary', 'fixed_basket', 'labor_force', 'unemployment', 'employment', 'rent_price_1room_bus', \n",
    "       'rent_price_1room_eco']]\n",
    "df_macro.isnull().sum()"
   ]
  },
  {
   "cell_type": "markdown",
   "metadata": {},
   "source": [
    "Taking a look at the employment figures."
   ]
  },
  {
   "cell_type": "code",
   "execution_count": 21,
   "metadata": {},
   "outputs": [
    {
     "data": {
      "text/html": [
       "<div>\n",
       "<style>\n",
       "    .dataframe thead tr:only-child th {\n",
       "        text-align: right;\n",
       "    }\n",
       "\n",
       "    .dataframe thead th {\n",
       "        text-align: left;\n",
       "    }\n",
       "\n",
       "    .dataframe tbody tr th {\n",
       "        vertical-align: top;\n",
       "    }\n",
       "</style>\n",
       "<table border=\"1\" class=\"dataframe\">\n",
       "  <thead>\n",
       "    <tr style=\"text-align: right;\">\n",
       "      <th></th>\n",
       "      <th>labor_force</th>\n",
       "      <th>unemployment</th>\n",
       "      <th>employment</th>\n",
       "    </tr>\n",
       "    <tr>\n",
       "      <th>timestamp</th>\n",
       "      <th></th>\n",
       "      <th></th>\n",
       "      <th></th>\n",
       "    </tr>\n",
       "  </thead>\n",
       "  <tbody>\n",
       "    <tr>\n",
       "      <th>2010</th>\n",
       "      <td>6436.244000</td>\n",
       "      <td>0.018000</td>\n",
       "      <td>0.690000</td>\n",
       "    </tr>\n",
       "    <tr>\n",
       "      <th>2011</th>\n",
       "      <td>6643.626000</td>\n",
       "      <td>0.014000</td>\n",
       "      <td>0.708000</td>\n",
       "    </tr>\n",
       "    <tr>\n",
       "      <th>2012</th>\n",
       "      <td>6799.974000</td>\n",
       "      <td>0.008000</td>\n",
       "      <td>0.716000</td>\n",
       "    </tr>\n",
       "    <tr>\n",
       "      <th>2013</th>\n",
       "      <td>6879.314000</td>\n",
       "      <td>0.017000</td>\n",
       "      <td>0.718000</td>\n",
       "    </tr>\n",
       "    <tr>\n",
       "      <th>2014</th>\n",
       "      <td>7087.326000</td>\n",
       "      <td>0.015000</td>\n",
       "      <td>0.740000</td>\n",
       "    </tr>\n",
       "    <tr>\n",
       "      <th>2015</th>\n",
       "      <td>7067.470079</td>\n",
       "      <td>0.017708</td>\n",
       "      <td>0.733598</td>\n",
       "    </tr>\n",
       "    <tr>\n",
       "      <th>2016</th>\n",
       "      <td>NaN</td>\n",
       "      <td>NaN</td>\n",
       "      <td>NaN</td>\n",
       "    </tr>\n",
       "  </tbody>\n",
       "</table>\n",
       "</div>"
      ],
      "text/plain": [
       "           labor_force  unemployment  employment\n",
       "timestamp                                       \n",
       "2010       6436.244000      0.018000    0.690000\n",
       "2011       6643.626000      0.014000    0.708000\n",
       "2012       6799.974000      0.008000    0.716000\n",
       "2013       6879.314000      0.017000    0.718000\n",
       "2014       7087.326000      0.015000    0.740000\n",
       "2015       7067.470079      0.017708    0.733598\n",
       "2016               NaN           NaN         NaN"
      ]
     },
     "execution_count": 21,
     "metadata": {},
     "output_type": "execute_result"
    }
   ],
   "source": [
    "df_macro[['timestamp', 'labor_force', 'unemployment', 'employment']].groupby(by=df_macro.timestamp.dt.year).agg(np.mean)"
   ]
  },
  {
   "cell_type": "markdown",
   "metadata": {},
   "source": [
    "Russia doesn't have a 1.7 unmployment rate at any point in the past 10 years, so I'm not sure what that variable is measuring. Labor_force absolute numbers are meaningless without context. Employment rate seems to be in line with outside sources, so let's keep that."
   ]
  },
  {
   "cell_type": "code",
   "execution_count": 22,
   "metadata": {},
   "outputs": [
    {
     "data": {
      "text/plain": [
       "timestamp                 0\n",
       "oil_urals                 0\n",
       "gdp_quart                 0\n",
       "gdp_quart_growth          0\n",
       "cpi                       0\n",
       "usdrub                    0\n",
       "eurrub                    0\n",
       "brent                     0\n",
       "gdp_annual                0\n",
       "gdp_annual_growth         0\n",
       "rts                       0\n",
       "micex                     0\n",
       "micex_rgbi_tr             0\n",
       "micex_cbi_tr              0\n",
       "deposits_growth           0\n",
       "mortgage_rate             0\n",
       "salary                  151\n",
       "fixed_basket              0\n",
       "employment              151\n",
       "rent_price_1room_bus     42\n",
       "rent_price_1room_eco     42\n",
       "dtype: int64"
      ]
     },
     "execution_count": 22,
     "metadata": {},
     "output_type": "execute_result"
    }
   ],
   "source": [
    "df_macro = df_macro[['timestamp', 'oil_urals', 'gdp_quart', 'gdp_quart_growth', 'cpi', 'usdrub', 'eurrub', 'brent', \n",
    "       'gdp_annual', 'gdp_annual_growth', 'rts', 'micex', 'micex_rgbi_tr', 'micex_cbi_tr', 'deposits_growth',\n",
    "       'mortgage_rate', 'salary', 'fixed_basket', 'employment', 'rent_price_1room_bus', 'rent_price_1room_eco']]\n",
    "df_macro.isnull().sum()"
   ]
  },
  {
   "cell_type": "markdown",
   "metadata": {},
   "source": [
    "Finally, let's take a look at the GDP numbers."
   ]
  },
  {
   "cell_type": "code",
   "execution_count": 23,
   "metadata": {},
   "outputs": [
    {
     "data": {
      "text/html": [
       "<div>\n",
       "<style>\n",
       "    .dataframe thead tr:only-child th {\n",
       "        text-align: right;\n",
       "    }\n",
       "\n",
       "    .dataframe thead th {\n",
       "        text-align: left;\n",
       "    }\n",
       "\n",
       "    .dataframe tbody tr th {\n",
       "        vertical-align: top;\n",
       "    }\n",
       "</style>\n",
       "<table border=\"1\" class=\"dataframe\">\n",
       "  <thead>\n",
       "    <tr style=\"text-align: right;\">\n",
       "      <th></th>\n",
       "      <th>gdp_quart</th>\n",
       "      <th>gdp_quart_growth</th>\n",
       "      <th>gdp_annual</th>\n",
       "      <th>gdp_annual_growth</th>\n",
       "    </tr>\n",
       "    <tr>\n",
       "      <th>timestamp</th>\n",
       "      <th></th>\n",
       "      <th></th>\n",
       "      <th></th>\n",
       "      <th></th>\n",
       "    </tr>\n",
       "  </thead>\n",
       "  <tbody>\n",
       "    <tr>\n",
       "      <th>2010</th>\n",
       "      <td>11738.746269</td>\n",
       "      <td>4.176119</td>\n",
       "      <td>38807.2</td>\n",
       "      <td>-0.078209</td>\n",
       "    </tr>\n",
       "    <tr>\n",
       "      <th>2011</th>\n",
       "      <td>14025.150411</td>\n",
       "      <td>4.172329</td>\n",
       "      <td>46308.5</td>\n",
       "      <td>0.045037</td>\n",
       "    </tr>\n",
       "    <tr>\n",
       "      <th>2012</th>\n",
       "      <td>16350.619672</td>\n",
       "      <td>4.296448</td>\n",
       "      <td>59698.1</td>\n",
       "      <td>0.042644</td>\n",
       "    </tr>\n",
       "    <tr>\n",
       "      <th>2013</th>\n",
       "      <td>17464.380548</td>\n",
       "      <td>1.297808</td>\n",
       "      <td>66926.9</td>\n",
       "      <td>0.035179</td>\n",
       "    </tr>\n",
       "    <tr>\n",
       "      <th>2014</th>\n",
       "      <td>19001.213425</td>\n",
       "      <td>1.070685</td>\n",
       "      <td>71016.7</td>\n",
       "      <td>0.012795</td>\n",
       "    </tr>\n",
       "    <tr>\n",
       "      <th>2015</th>\n",
       "      <td>20072.952603</td>\n",
       "      <td>-2.666301</td>\n",
       "      <td>77945.1</td>\n",
       "      <td>0.007065</td>\n",
       "    </tr>\n",
       "    <tr>\n",
       "      <th>2016</th>\n",
       "      <td>20643.331788</td>\n",
       "      <td>-2.766887</td>\n",
       "      <td>80804.3</td>\n",
       "      <td>-0.037267</td>\n",
       "    </tr>\n",
       "  </tbody>\n",
       "</table>\n",
       "</div>"
      ],
      "text/plain": [
       "              gdp_quart  gdp_quart_growth  gdp_annual  gdp_annual_growth\n",
       "timestamp                                                               \n",
       "2010       11738.746269          4.176119     38807.2          -0.078209\n",
       "2011       14025.150411          4.172329     46308.5           0.045037\n",
       "2012       16350.619672          4.296448     59698.1           0.042644\n",
       "2013       17464.380548          1.297808     66926.9           0.035179\n",
       "2014       19001.213425          1.070685     71016.7           0.012795\n",
       "2015       20072.952603         -2.666301     77945.1           0.007065\n",
       "2016       20643.331788         -2.766887     80804.3          -0.037267"
      ]
     },
     "execution_count": 23,
     "metadata": {},
     "output_type": "execute_result"
    }
   ],
   "source": [
    "df_macro[['timestamp','gdp_quart','gdp_quart_growth','gdp_annual','gdp_annual_growth']].groupby(by=df_macro.timestamp.dt.year).agg(np.mean)"
   ]
  },
  {
   "cell_type": "markdown",
   "metadata": {},
   "source": [
    "Not sure what these are measuring exactly. gdp_annual_growth looks to be the GDP growth for the past year based on outside sources so let's keep that variable"
   ]
  },
  {
   "cell_type": "code",
   "execution_count": 25,
   "metadata": {},
   "outputs": [
    {
     "data": {
      "text/plain": [
       "timestamp                 0\n",
       "oil_urals                 0\n",
       "cpi                       0\n",
       "usdrub                    0\n",
       "eurrub                    0\n",
       "brent                     0\n",
       "gdp_annual_growth         0\n",
       "rts                       0\n",
       "micex                     0\n",
       "micex_rgbi_tr             0\n",
       "micex_cbi_tr              0\n",
       "deposits_growth           0\n",
       "mortgage_rate             0\n",
       "salary                  151\n",
       "fixed_basket              0\n",
       "employment              151\n",
       "rent_price_1room_bus     42\n",
       "rent_price_1room_eco     42\n",
       "dtype: int64"
      ]
     },
     "execution_count": 25,
     "metadata": {},
     "output_type": "execute_result"
    }
   ],
   "source": [
    "df_macro = df_macro[['timestamp', 'oil_urals', 'cpi', 'usdrub', 'eurrub', 'brent', 'gdp_annual_growth', 'rts', 'micex', \n",
    "                     'micex_rgbi_tr', 'micex_cbi_tr', 'deposits_growth', 'mortgage_rate', 'salary', 'fixed_basket', \n",
    "                     'employment', 'rent_price_1room_bus', 'rent_price_1room_eco']]\n",
    "df_macro.isnull().sum()"
   ]
  },
  {
   "cell_type": "markdown",
   "metadata": {},
   "source": [
    "I'm happy with the above dataset. I believe a lot could be filtered out from common sense. The remaining variables can be further investigated by analyzing the data.\n",
    "\n",
    "But first, let's take care of those missing values."
   ]
  },
  {
   "cell_type": "code",
   "execution_count": 26,
   "metadata": {},
   "outputs": [
    {
     "data": {
      "text/plain": [
       "2191   2016-01-01\n",
       "2192   2016-01-02\n",
       "2193   2016-01-03\n",
       "2194   2016-01-04\n",
       "2195   2016-01-05\n",
       "2196   2016-01-06\n",
       "2197   2016-01-07\n",
       "2198   2016-01-08\n",
       "2199   2016-01-09\n",
       "2200   2016-01-10\n",
       "2201   2016-01-11\n",
       "2202   2016-01-12\n",
       "2203   2016-01-13\n",
       "2204   2016-01-14\n",
       "2205   2016-01-15\n",
       "2206   2016-01-16\n",
       "2207   2016-01-17\n",
       "2208   2016-01-18\n",
       "2209   2016-01-19\n",
       "2210   2016-01-20\n",
       "2211   2016-01-21\n",
       "2212   2016-01-22\n",
       "2213   2016-01-23\n",
       "2214   2016-01-24\n",
       "2215   2016-01-25\n",
       "2216   2016-01-26\n",
       "2217   2016-01-27\n",
       "2218   2016-01-28\n",
       "2219   2016-01-29\n",
       "2220   2016-01-30\n",
       "          ...    \n",
       "2312   2016-05-01\n",
       "2313   2016-05-02\n",
       "2314   2016-05-03\n",
       "2315   2016-05-04\n",
       "2316   2016-05-05\n",
       "2317   2016-05-06\n",
       "2318   2016-05-07\n",
       "2319   2016-05-08\n",
       "2320   2016-05-09\n",
       "2321   2016-05-10\n",
       "2322   2016-05-11\n",
       "2323   2016-05-12\n",
       "2324   2016-05-13\n",
       "2325   2016-05-14\n",
       "2326   2016-05-15\n",
       "2327   2016-05-16\n",
       "2328   2016-05-17\n",
       "2329   2016-05-18\n",
       "2330   2016-05-19\n",
       "2331   2016-05-20\n",
       "2332   2016-05-21\n",
       "2333   2016-05-22\n",
       "2334   2016-05-23\n",
       "2335   2016-05-24\n",
       "2336   2016-05-25\n",
       "2337   2016-05-26\n",
       "2338   2016-05-27\n",
       "2339   2016-05-28\n",
       "2340   2016-05-29\n",
       "2341   2016-05-30\n",
       "Name: timestamp, Length: 151, dtype: datetime64[ns]"
      ]
     },
     "execution_count": 26,
     "metadata": {},
     "output_type": "execute_result"
    }
   ],
   "source": [
    "df_macro.timestamp[df_macro.salary.isnull()]"
   ]
  },
  {
   "cell_type": "markdown",
   "metadata": {},
   "source": [
    "All 2016 values are missing - so let's fill in with the last value from 2015."
   ]
  },
  {
   "cell_type": "code",
   "execution_count": 27,
   "metadata": {},
   "outputs": [],
   "source": [
    "df_macro.salary.fillna(value=df_macro.salary.loc[2190], inplace=True)"
   ]
  },
  {
   "cell_type": "markdown",
   "metadata": {},
   "source": [
    "Taking a look at missing employment values:"
   ]
  },
  {
   "cell_type": "code",
   "execution_count": 28,
   "metadata": {},
   "outputs": [
    {
     "data": {
      "text/plain": [
       "2191   2016-01-01\n",
       "2192   2016-01-02\n",
       "2193   2016-01-03\n",
       "2194   2016-01-04\n",
       "2195   2016-01-05\n",
       "2196   2016-01-06\n",
       "2197   2016-01-07\n",
       "2198   2016-01-08\n",
       "2199   2016-01-09\n",
       "2200   2016-01-10\n",
       "2201   2016-01-11\n",
       "2202   2016-01-12\n",
       "2203   2016-01-13\n",
       "2204   2016-01-14\n",
       "2205   2016-01-15\n",
       "2206   2016-01-16\n",
       "2207   2016-01-17\n",
       "2208   2016-01-18\n",
       "2209   2016-01-19\n",
       "2210   2016-01-20\n",
       "2211   2016-01-21\n",
       "2212   2016-01-22\n",
       "2213   2016-01-23\n",
       "2214   2016-01-24\n",
       "2215   2016-01-25\n",
       "2216   2016-01-26\n",
       "2217   2016-01-27\n",
       "2218   2016-01-28\n",
       "2219   2016-01-29\n",
       "2220   2016-01-30\n",
       "          ...    \n",
       "2312   2016-05-01\n",
       "2313   2016-05-02\n",
       "2314   2016-05-03\n",
       "2315   2016-05-04\n",
       "2316   2016-05-05\n",
       "2317   2016-05-06\n",
       "2318   2016-05-07\n",
       "2319   2016-05-08\n",
       "2320   2016-05-09\n",
       "2321   2016-05-10\n",
       "2322   2016-05-11\n",
       "2323   2016-05-12\n",
       "2324   2016-05-13\n",
       "2325   2016-05-14\n",
       "2326   2016-05-15\n",
       "2327   2016-05-16\n",
       "2328   2016-05-17\n",
       "2329   2016-05-18\n",
       "2330   2016-05-19\n",
       "2331   2016-05-20\n",
       "2332   2016-05-21\n",
       "2333   2016-05-22\n",
       "2334   2016-05-23\n",
       "2335   2016-05-24\n",
       "2336   2016-05-25\n",
       "2337   2016-05-26\n",
       "2338   2016-05-27\n",
       "2339   2016-05-28\n",
       "2340   2016-05-29\n",
       "2341   2016-05-30\n",
       "Name: timestamp, Length: 151, dtype: datetime64[ns]"
      ]
     },
     "execution_count": 28,
     "metadata": {},
     "output_type": "execute_result"
    }
   ],
   "source": [
    "df_macro.timestamp[df_macro.employment.isnull()]"
   ]
  },
  {
   "cell_type": "markdown",
   "metadata": {},
   "source": [
    "Same thing as salary, so let's fill in with last value from 2015"
   ]
  },
  {
   "cell_type": "code",
   "execution_count": 29,
   "metadata": {
    "collapsed": true
   },
   "outputs": [],
   "source": [
    "df_macro.employment.fillna(value=df_macro.employment.loc[2190], inplace=True)"
   ]
  },
  {
   "cell_type": "markdown",
   "metadata": {},
   "source": [
    "Earlier, we saw the missing apartment values were at the very beginning of the data set - the first two months were missing - so let's just backfill with the first available value."
   ]
  },
  {
   "cell_type": "code",
   "execution_count": 30,
   "metadata": {
    "collapsed": true
   },
   "outputs": [],
   "source": [
    "df_macro.rent_price_1room_bus.fillna(value=df_macro.rent_price_1room_bus.loc[273], inplace=True)\n",
    "df_macro.rent_price_1room_eco.fillna(value=df_macro.rent_price_1room_eco.loc[273], inplace=True)"
   ]
  },
  {
   "cell_type": "code",
   "execution_count": 31,
   "metadata": {},
   "outputs": [
    {
     "data": {
      "text/plain": [
       "timestamp               0\n",
       "oil_urals               0\n",
       "cpi                     0\n",
       "usdrub                  0\n",
       "eurrub                  0\n",
       "brent                   0\n",
       "gdp_annual_growth       0\n",
       "rts                     0\n",
       "micex                   0\n",
       "micex_rgbi_tr           0\n",
       "micex_cbi_tr            0\n",
       "deposits_growth         0\n",
       "mortgage_rate           0\n",
       "salary                  0\n",
       "fixed_basket            0\n",
       "employment              0\n",
       "rent_price_1room_bus    0\n",
       "rent_price_1room_eco    0\n",
       "dtype: int64"
      ]
     },
     "execution_count": 31,
     "metadata": {},
     "output_type": "execute_result"
    }
   ],
   "source": [
    "df_macro.isnull().sum()"
   ]
  },
  {
   "cell_type": "markdown",
   "metadata": {},
   "source": [
    "Let's take a look at how these variables are correlated against each other."
   ]
  },
  {
   "cell_type": "code",
   "execution_count": 35,
   "metadata": {},
   "outputs": [],
   "source": [
    "df_corr = df_macro.drop('timestamp', axis=1).corr()"
   ]
  },
  {
   "cell_type": "code",
   "execution_count": 42,
   "metadata": {},
   "outputs": [
    {
     "name": "stderr",
     "output_type": "stream",
     "text": [
      "/home/ubuntu/.virtualenvs/data-science/lib/python3.5/site-packages/matplotlib/font_manager.py:1297: UserWarning: findfont: Font family ['sans-serif'] not found. Falling back to DejaVu Sans\n",
      "  (prop.get_family(), self.defaultFamily[fontext]))\n"
     ]
    },
    {
     "data": {
      "text/plain": [
       "<matplotlib.axes._subplots.AxesSubplot at 0x7eff25c796a0>"
      ]
     },
     "execution_count": 42,
     "metadata": {},
     "output_type": "execute_result"
    },
    {
     "data": {
      "image/png": "[encoded data removed]",
      "text/plain": [
       "<matplotlib.figure.Figure at 0x7eff25c31278>"
      ]
     },
     "metadata": {},
     "output_type": "display_data"
    }
   ],
   "source": [
    "plt.figure(figsize=(12,12))\n",
    "sns.heatmap(df_corr, annot=True, fmt='.1g', square=True)"
   ]
  },
  {
   "cell_type": "markdown",
   "metadata": {},
   "source": [
    "CPI is perfectly correlated with fixed_basket - let's remove fixed basket.\n",
    "USDRUB and EURRUB are perfectly correlated as well - let's remove USDRUB.\n",
    "MICEX_CBI_TR is perfectly correlated with CPI - lets removed MICEX_CBI_TR.\n",
    "BRENT and OIL_URALS are perfectly correlated as well - let's remove BRENT."
   ]
  },
  {
   "cell_type": "code",
   "execution_count": 43,
   "metadata": {},
   "outputs": [
    {
     "name": "stderr",
     "output_type": "stream",
     "text": [
      "/home/ubuntu/.virtualenvs/data-science/lib/python3.5/site-packages/matplotlib/font_manager.py:1297: UserWarning: findfont: Font family ['sans-serif'] not found. Falling back to DejaVu Sans\n",
      "  (prop.get_family(), self.defaultFamily[fontext]))\n"
     ]
    },
    {
     "data": {
      "text/plain": [
       "<matplotlib.axes._subplots.AxesSubplot at 0x7eff25c519e8>"
      ]
     },
     "execution_count": 43,
     "metadata": {},
     "output_type": "execute_result"
    },
    {
     "data": {
      "image/png": "[encoded data removed]",
      "text/plain": [
       "<matplotlib.figure.Figure at 0x7eff259a5f28>"
      ]
     },
     "metadata": {},
     "output_type": "display_data"
    }
   ],
   "source": [
    "df_macro = df_macro[['timestamp', 'oil_urals', 'cpi', 'eurrub', 'gdp_annual_growth', 'rts', 'micex', \n",
    "                     'micex_rgbi_tr', 'deposits_growth', 'mortgage_rate', 'salary', \n",
    "                     'employment', 'rent_price_1room_bus', 'rent_price_1room_eco']]\n",
    "df_corr = df_macro.drop('timestamp', axis=1).corr()\n",
    "plt.figure(figsize=(12,12))\n",
    "sns.heatmap(df_corr, annot=True, fmt='.1g', square=True)"
   ]
  },
  {
   "cell_type": "markdown",
   "metadata": {},
   "source": [
    "EURRUB/CPI are have > .9 correlation. Let's remove EURRUB\n",
    "SALARY and EMPLOYMENT have > .9 correlation. Let's remove SALARY since it is also highly correlated with CPI."
   ]
  },
  {
   "cell_type": "code",
   "execution_count": 44,
   "metadata": {},
   "outputs": [
    {
     "name": "stderr",
     "output_type": "stream",
     "text": [
      "/home/ubuntu/.virtualenvs/data-science/lib/python3.5/site-packages/matplotlib/font_manager.py:1297: UserWarning: findfont: Font family ['sans-serif'] not found. Falling back to DejaVu Sans\n",
      "  (prop.get_family(), self.defaultFamily[fontext]))\n"
     ]
    },
    {
     "data": {
      "text/plain": [
       "<matplotlib.axes._subplots.AxesSubplot at 0x7eff258d23c8>"
      ]
     },
     "execution_count": 44,
     "metadata": {},
     "output_type": "execute_result"
    },
    {
     "data": {
      "image/png": "[encoded data removed]",
      "text/plain": [
       "<matplotlib.figure.Figure at 0x7eff258f6e48>"
      ]
     },
     "metadata": {},
     "output_type": "display_data"
    }
   ],
   "source": [
    "df_macro = df_macro[['timestamp', 'oil_urals', 'cpi', 'gdp_annual_growth', 'rts', 'micex', \n",
    "                     'micex_rgbi_tr', 'deposits_growth', 'mortgage_rate', \n",
    "                     'employment', 'rent_price_1room_bus', 'rent_price_1room_eco']]\n",
    "df_corr = df_macro.drop('timestamp', axis=1).corr()\n",
    "plt.figure(figsize=(12,12))\n",
    "sns.heatmap(df_corr, annot=True, fmt='.1g', square=True)"
   ]
  },
  {
   "cell_type": "code",
   "execution_count": null,
   "metadata": {
    "collapsed": true
   },
   "outputs": [],
   "source": []
  },
  {
   "cell_type": "code",
   "execution_count": null,
   "metadata": {
    "collapsed": true
   },
   "outputs": [],
   "source": []
  },
  {
   "cell_type": "code",
   "execution_count": null,
   "metadata": {
    "collapsed": true
   },
   "outputs": [],
   "source": []
  },
  {
   "cell_type": "code",
   "execution_count": 75,
   "metadata": {},
   "outputs": [],
   "source": [
    "df_price = df_train[['id', 'timestamp', 'price_doc']]"
   ]
  },
  {
   "cell_type": "code",
   "execution_count": 76,
   "metadata": {},
   "outputs": [
    {
     "data": {
      "text/html": [
       "<div>\n",
       "<style>\n",
       "    .dataframe thead tr:only-child th {\n",
       "        text-align: right;\n",
       "    }\n",
       "\n",
       "    .dataframe thead th {\n",
       "        text-align: left;\n",
       "    }\n",
       "\n",
       "    .dataframe tbody tr th {\n",
       "        vertical-align: top;\n",
       "    }\n",
       "</style>\n",
       "<table border=\"1\" class=\"dataframe\">\n",
       "  <thead>\n",
       "    <tr style=\"text-align: right;\">\n",
       "      <th></th>\n",
       "      <th>id</th>\n",
       "      <th>timestamp</th>\n",
       "      <th>price_doc</th>\n",
       "    </tr>\n",
       "  </thead>\n",
       "  <tbody>\n",
       "    <tr>\n",
       "      <th>0</th>\n",
       "      <td>1</td>\n",
       "      <td>2011-08-20</td>\n",
       "      <td>5850000</td>\n",
       "    </tr>\n",
       "    <tr>\n",
       "      <th>1</th>\n",
       "      <td>2</td>\n",
       "      <td>2011-08-23</td>\n",
       "      <td>6000000</td>\n",
       "    </tr>\n",
       "    <tr>\n",
       "      <th>2</th>\n",
       "      <td>3</td>\n",
       "      <td>2011-08-27</td>\n",
       "      <td>5700000</td>\n",
       "    </tr>\n",
       "    <tr>\n",
       "      <th>3</th>\n",
       "      <td>4</td>\n",
       "      <td>2011-09-01</td>\n",
       "      <td>13100000</td>\n",
       "    </tr>\n",
       "    <tr>\n",
       "      <th>4</th>\n",
       "      <td>5</td>\n",
       "      <td>2011-09-05</td>\n",
       "      <td>16331452</td>\n",
       "    </tr>\n",
       "  </tbody>\n",
       "</table>\n",
       "</div>"
      ],
      "text/plain": [
       "   id  timestamp  price_doc\n",
       "0   1 2011-08-20    5850000\n",
       "1   2 2011-08-23    6000000\n",
       "2   3 2011-08-27    5700000\n",
       "3   4 2011-09-01   13100000\n",
       "4   5 2011-09-05   16331452"
      ]
     },
     "execution_count": 76,
     "metadata": {},
     "output_type": "execute_result"
    }
   ],
   "source": [
    "df_price.head()"
   ]
  },
  {
   "cell_type": "code",
   "execution_count": 77,
   "metadata": {
    "collapsed": true
   },
   "outputs": [],
   "source": [
    "df_price = df_price.merge(df_macro, on='timestamp')"
   ]
  },
  {
   "cell_type": "code",
   "execution_count": 78,
   "metadata": {},
   "outputs": [
    {
     "data": {
      "text/html": [
       "<div>\n",
       "<style>\n",
       "    .dataframe thead tr:only-child th {\n",
       "        text-align: right;\n",
       "    }\n",
       "\n",
       "    .dataframe thead th {\n",
       "        text-align: left;\n",
       "    }\n",
       "\n",
       "    .dataframe tbody tr th {\n",
       "        vertical-align: top;\n",
       "    }\n",
       "</style>\n",
       "<table border=\"1\" class=\"dataframe\">\n",
       "  <thead>\n",
       "    <tr style=\"text-align: right;\">\n",
       "      <th></th>\n",
       "      <th>id</th>\n",
       "      <th>timestamp</th>\n",
       "      <th>price_doc</th>\n",
       "      <th>oil_urals</th>\n",
       "      <th>cpi</th>\n",
       "      <th>usdrub</th>\n",
       "      <th>eurrub</th>\n",
       "      <th>brent</th>\n",
       "      <th>gdp_annual_growth</th>\n",
       "      <th>rts</th>\n",
       "      <th>micex</th>\n",
       "      <th>micex_rgbi_tr</th>\n",
       "      <th>micex_cbi_tr</th>\n",
       "      <th>deposits_growth</th>\n",
       "      <th>mortgage_rate</th>\n",
       "      <th>salary</th>\n",
       "      <th>fixed_basket</th>\n",
       "      <th>employment</th>\n",
       "      <th>rent_price_1room_bus</th>\n",
       "      <th>rent_price_1room_eco</th>\n",
       "    </tr>\n",
       "  </thead>\n",
       "  <tbody>\n",
       "    <tr>\n",
       "      <th>0</th>\n",
       "      <td>1</td>\n",
       "      <td>2011-08-20</td>\n",
       "      <td>5850000</td>\n",
       "      <td>109.31</td>\n",
       "      <td>354.0</td>\n",
       "      <td>29.0048</td>\n",
       "      <td>41.7681</td>\n",
       "      <td>108.62</td>\n",
       "      <td>0.045037</td>\n",
       "      <td>1575.33</td>\n",
       "      <td>1438.74</td>\n",
       "      <td>131.16</td>\n",
       "      <td>204.78</td>\n",
       "      <td>0.009740</td>\n",
       "      <td>11.84</td>\n",
       "      <td>44898.7</td>\n",
       "      <td>12838.36</td>\n",
       "      <td>0.708</td>\n",
       "      <td>47.85</td>\n",
       "      <td>29.07</td>\n",
       "    </tr>\n",
       "    <tr>\n",
       "      <th>1</th>\n",
       "      <td>2</td>\n",
       "      <td>2011-08-23</td>\n",
       "      <td>6000000</td>\n",
       "      <td>109.31</td>\n",
       "      <td>354.0</td>\n",
       "      <td>28.9525</td>\n",
       "      <td>41.7537</td>\n",
       "      <td>109.31</td>\n",
       "      <td>0.045037</td>\n",
       "      <td>1578.91</td>\n",
       "      <td>1444.11</td>\n",
       "      <td>131.45</td>\n",
       "      <td>204.92</td>\n",
       "      <td>0.009740</td>\n",
       "      <td>11.84</td>\n",
       "      <td>44898.7</td>\n",
       "      <td>12838.36</td>\n",
       "      <td>0.708</td>\n",
       "      <td>47.85</td>\n",
       "      <td>29.07</td>\n",
       "    </tr>\n",
       "    <tr>\n",
       "      <th>2</th>\n",
       "      <td>3</td>\n",
       "      <td>2011-08-27</td>\n",
       "      <td>5700000</td>\n",
       "      <td>109.31</td>\n",
       "      <td>354.0</td>\n",
       "      <td>28.8082</td>\n",
       "      <td>41.7114</td>\n",
       "      <td>111.36</td>\n",
       "      <td>0.045037</td>\n",
       "      <td>1596.17</td>\n",
       "      <td>1458.84</td>\n",
       "      <td>131.08</td>\n",
       "      <td>204.84</td>\n",
       "      <td>0.009740</td>\n",
       "      <td>11.84</td>\n",
       "      <td>44898.7</td>\n",
       "      <td>12838.36</td>\n",
       "      <td>0.708</td>\n",
       "      <td>47.85</td>\n",
       "      <td>29.07</td>\n",
       "    </tr>\n",
       "    <tr>\n",
       "      <th>3</th>\n",
       "      <td>4</td>\n",
       "      <td>2011-09-01</td>\n",
       "      <td>13100000</td>\n",
       "      <td>111.29</td>\n",
       "      <td>353.2</td>\n",
       "      <td>28.9655</td>\n",
       "      <td>41.4014</td>\n",
       "      <td>114.29</td>\n",
       "      <td>0.045037</td>\n",
       "      <td>1703.86</td>\n",
       "      <td>1551.58</td>\n",
       "      <td>131.45</td>\n",
       "      <td>205.42</td>\n",
       "      <td>0.009607</td>\n",
       "      <td>11.92</td>\n",
       "      <td>44898.7</td>\n",
       "      <td>12856.97</td>\n",
       "      <td>0.708</td>\n",
       "      <td>51.15</td>\n",
       "      <td>30.63</td>\n",
       "    </tr>\n",
       "    <tr>\n",
       "      <th>4</th>\n",
       "      <td>5</td>\n",
       "      <td>2011-09-05</td>\n",
       "      <td>16331452</td>\n",
       "      <td>111.29</td>\n",
       "      <td>353.2</td>\n",
       "      <td>29.4625</td>\n",
       "      <td>41.5902</td>\n",
       "      <td>110.08</td>\n",
       "      <td>0.045037</td>\n",
       "      <td>1617.01</td>\n",
       "      <td>1492.83</td>\n",
       "      <td>131.19</td>\n",
       "      <td>198.24</td>\n",
       "      <td>0.018590</td>\n",
       "      <td>11.92</td>\n",
       "      <td>44898.7</td>\n",
       "      <td>12856.97</td>\n",
       "      <td>0.708</td>\n",
       "      <td>51.15</td>\n",
       "      <td>30.63</td>\n",
       "    </tr>\n",
       "  </tbody>\n",
       "</table>\n",
       "</div>"
      ],
      "text/plain": [
       "   id  timestamp  price_doc  oil_urals    cpi   usdrub   eurrub   brent  \\\n",
       "0   1 2011-08-20    5850000     109.31  354.0  29.0048  41.7681  108.62   \n",
       "1   2 2011-08-23    6000000     109.31  354.0  28.9525  41.7537  109.31   \n",
       "2   3 2011-08-27    5700000     109.31  354.0  28.8082  41.7114  111.36   \n",
       "3   4 2011-09-01   13100000     111.29  353.2  28.9655  41.4014  114.29   \n",
       "4   5 2011-09-05   16331452     111.29  353.2  29.4625  41.5902  110.08   \n",
       "\n",
       "   gdp_annual_growth      rts    micex  micex_rgbi_tr  micex_cbi_tr  \\\n",
       "0           0.045037  1575.33  1438.74         131.16        204.78   \n",
       "1           0.045037  1578.91  1444.11         131.45        204.92   \n",
       "2           0.045037  1596.17  1458.84         131.08        204.84   \n",
       "3           0.045037  1703.86  1551.58         131.45        205.42   \n",
       "4           0.045037  1617.01  1492.83         131.19        198.24   \n",
       "\n",
       "   deposits_growth  mortgage_rate   salary  fixed_basket  employment  \\\n",
       "0         0.009740          11.84  44898.7      12838.36       0.708   \n",
       "1         0.009740          11.84  44898.7      12838.36       0.708   \n",
       "2         0.009740          11.84  44898.7      12838.36       0.708   \n",
       "3         0.009607          11.92  44898.7      12856.97       0.708   \n",
       "4         0.018590          11.92  44898.7      12856.97       0.708   \n",
       "\n",
       "   rent_price_1room_bus  rent_price_1room_eco  \n",
       "0                 47.85                 29.07  \n",
       "1                 47.85                 29.07  \n",
       "2                 47.85                 29.07  \n",
       "3                 51.15                 30.63  \n",
       "4                 51.15                 30.63  "
      ]
     },
     "execution_count": 78,
     "metadata": {},
     "output_type": "execute_result"
    }
   ],
   "source": [
    "df_price.head()"
   ]
  },
  {
   "cell_type": "code",
   "execution_count": 49,
   "metadata": {
    "collapsed": true
   },
   "outputs": [],
   "source": [
    "y = np.log(df_train['price_doc'])"
   ]
  },
  {
   "cell_type": "code",
   "execution_count": 79,
   "metadata": {
    "collapsed": true
   },
   "outputs": [],
   "source": [
    "import xgboost as xgb"
   ]
  },
  {
   "cell_type": "code",
   "execution_count": null,
   "metadata": {
    "collapsed": true
   },
   "outputs": [],
   "source": []
  }
 ],
 "metadata": {
  "kernelspec": {
   "display_name": "Python 3",
   "language": "python",
   "name": "python3"
  },
  "language_info": {
   "codemirror_mode": {
    "name": "ipython",
    "version": 3
   },
   "file_extension": ".py",
   "mimetype": "text/x-python",
   "name": "python",
   "nbconvert_exporter": "python",
   "pygments_lexer": "ipython3",
   "version": "3.5.2"
  }
 },
 "nbformat": 4,
 "nbformat_minor": 2
}
